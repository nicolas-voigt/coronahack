{
 "cells": [
  {
   "cell_type": "code",
   "execution_count": 11,
   "metadata": {},
   "outputs": [],
   "source": [
    "import requests\n",
    "import urllib.request\n",
    "import time\n",
    "import dbInterface\n",
    "from bs4 import BeautifulSoup\n",
    "import datetime\n",
    "from datetime import datetime"
   ]
  },
  {
   "cell_type": "code",
   "execution_count": 13,
   "metadata": {},
   "outputs": [
    {
     "name": "stdout",
     "output_type": "stream",
     "text": [
      "[(datetime.datetime(2020, 3, 20, 0, 0), 'Bleiben Sie Zuhause! Halten Sie sich an die Regeln!', 'https://www.muenster.de/stadt/presseservice/pressemeldungen/web/frontend/output/standard/design/standard/page/1/show/1040526'), (datetime.datetime(2020, 3, 20, 0, 0), 'Stadt Münster ist auf mögliche Ausgangssperre vorbereitet', 'https://www.muenster.de/stadt/presseservice/pressemeldungen/web/frontend/output/standard/design/standard/page/1/show/1040512'), (datetime.datetime(2020, 3, 20, 0, 0), 'Spielplätze gesperrt: Schilder aufgestellt', 'https://www.muenster.de/stadt/presseservice/pressemeldungen/web/frontend/output/standard/design/standard/page/1/show/1040497'), (datetime.datetime(2020, 3, 20, 0, 0), 'Radwegenetz: Wirtschaftswege werden neu asphaltiert', 'https://www.muenster.de/stadt/presseservice/pressemeldungen/web/frontend/output/standard/design/standard/page/1/show/1040386'), (datetime.datetime(2020, 3, 19, 0, 0), 'Verwaltung verstärkt Anti-Corona-Kräfte', 'https://www.muenster.de/stadt/presseservice/pressemeldungen/web/frontend/output/standard/design/standard/page/1/show/1040394'), (datetime.datetime(2020, 3, 19, 0, 0), 'Stadtbücherei verlängert Leihfristen bis 22. April', 'https://www.muenster.de/stadt/presseservice/pressemeldungen/web/frontend/output/standard/design/standard/page/1/show/1040363'), (datetime.datetime(2020, 3, 19, 0, 0), 'Tipps zum Solarstrom nur am Telefon', 'https://www.muenster.de/stadt/presseservice/pressemeldungen/web/frontend/output/standard/design/standard/page/1/show/1040318'), (datetime.datetime(2020, 3, 19, 0, 0), 'Top-Mediziner fordern mehr Disziplin bei Corona-Tests', 'https://www.muenster.de/stadt/presseservice/pressemeldungen/web/frontend/output/standard/design/standard/page/1/show/1040330'), (datetime.datetime(2020, 3, 18, 0, 0), 'E-Mail-Hotline zusätzlich eingerichtet', 'https://www.muenster.de/stadt/presseservice/pressemeldungen/web/frontend/output/standard/design/standard/page/1/show/1040288'), (datetime.datetime(2020, 3, 18, 0, 0), 'Weitreichende Einschränkungen des öffentlichen Lebens notwendig', 'https://www.muenster.de/stadt/presseservice/pressemeldungen/web/frontend/output/standard/design/standard/page/1/show/1040281'), (datetime.datetime(2020, 3, 18, 0, 0), 'Recyclinghöfe ab 19. März geschlossen', 'https://www.muenster.de/stadt/presseservice/pressemeldungen/web/frontend/output/standard/design/standard/page/1/show/1040264'), (datetime.datetime(2020, 3, 18, 0, 0), 'Münster Mitglied im Zukunftsnetz Mobilität', 'https://www.muenster.de/stadt/presseservice/pressemeldungen/web/frontend/output/standard/design/standard/page/1/show/1040205'), (datetime.datetime(2020, 3, 18, 0, 0), 'Stadtverwaltung bittet um Verzicht auf persönliche Gespräche', 'https://www.muenster.de/stadt/presseservice/pressemeldungen/web/frontend/output/standard/design/standard/page/1/show/1040202'), (datetime.datetime(2020, 3, 17, 0, 0), 'Coronavirus: Stadtverwaltung passt Maßnahmen an', 'https://www.muenster.de/stadt/presseservice/pressemeldungen/web/frontend/output/standard/design/standard/page/1/show/1040179'), (datetime.datetime(2020, 3, 17, 0, 0), 'Wolbecker Straße am Nachmittag wieder frei', 'https://www.muenster.de/stadt/presseservice/pressemeldungen/web/frontend/output/standard/design/standard/page/1/show/1040080'), (datetime.datetime(2020, 3, 17, 0, 0), 'Gewinn für alle Seiten', 'https://www.muenster.de/stadt/presseservice/pressemeldungen/web/frontend/output/standard/design/standard/page/1/show/1040062'), (datetime.datetime(2020, 3, 17, 0, 0), 'Recyclinghöfe teilweise geschlossen', 'https://www.muenster.de/stadt/presseservice/pressemeldungen/web/frontend/output/standard/design/standard/page/1/show/1040056'), (datetime.datetime(2020, 3, 16, 0, 0), 'Coronavirus: Stadt handelt konsequent', 'https://www.muenster.de/stadt/presseservice/pressemeldungen/web/frontend/output/standard/design/standard/page/1/show/1040041'), (datetime.datetime(2020, 3, 16, 0, 0), 'Wolbecker Straße weiterhin gesperrt', 'https://www.muenster.de/stadt/presseservice/pressemeldungen/web/frontend/output/standard/design/standard/page/1/show/1039975'), (datetime.datetime(2020, 3, 16, 0, 0), 'Solarstrom vom eigenen Dach lohnt sich', 'https://www.muenster.de/stadt/presseservice/pressemeldungen/web/frontend/output/standard/design/standard/page/1/show/1039942'), (datetime.datetime(2020, 3, 14, 0, 0), 'Coronavirus: Stadt reagiert auf Zunahme der Fälle', 'https://www.muenster.de/stadt/presseservice/pressemeldungen/web/frontend/output/standard/design/standard/page/2/show/1039856'), (datetime.datetime(2020, 3, 13, 0, 0), 'Stadt sagt alle Veranstaltungen ohne Ausnahme ab', 'https://www.muenster.de/stadt/presseservice/pressemeldungen/web/frontend/output/standard/design/standard/page/2/show/1039791'), (datetime.datetime(2020, 3, 13, 0, 0), 'Großer Maßstab und gut lesbar', 'https://www.muenster.de/stadt/presseservice/pressemeldungen/web/frontend/output/standard/design/standard/page/2/show/1039566'), (datetime.datetime(2020, 3, 13, 0, 0), 'Steinfurter Straße: Attraktive Mobilstation geplant', 'https://www.muenster.de/stadt/presseservice/pressemeldungen/web/frontend/output/standard/design/standard/page/2/show/1039406'), (datetime.datetime(2020, 3, 13, 0, 0), 'Von der Not des Lebens in einer zerstörten Stadt', 'https://www.muenster.de/stadt/presseservice/pressemeldungen/web/frontend/output/standard/design/standard/page/2/show/1039150'), (datetime.datetime(2020, 3, 13, 0, 0), 'Fahrbahninstandsetzung am Neutor', 'https://www.muenster.de/stadt/presseservice/pressemeldungen/web/frontend/output/standard/design/standard/page/2/show/1039670'), (datetime.datetime(2020, 3, 13, 0, 0), 'Flaggen auf halbmast', 'https://www.muenster.de/stadt/presseservice/pressemeldungen/web/frontend/output/standard/design/standard/page/2/show/1039669'), (datetime.datetime(2020, 3, 12, 0, 0), 'Coronavirus: 16 bestätigte Fälle in Münster', 'https://www.muenster.de/stadt/presseservice/pressemeldungen/web/frontend/output/standard/design/standard/page/2/show/1039616'), (datetime.datetime(2020, 3, 12, 0, 0), 'Sammelaktion \"Sauberes Münster\" abgesagt', 'https://www.muenster.de/stadt/presseservice/pressemeldungen/web/frontend/output/standard/design/standard/page/2/show/1039580'), (datetime.datetime(2020, 3, 12, 0, 0), 'Reisener leitet Kommunikation der Stadt Münster', 'https://www.muenster.de/stadt/presseservice/pressemeldungen/web/frontend/output/standard/design/standard/page/2/show/1039545'), (datetime.datetime(2020, 3, 12, 0, 0), 'Lesetipps in der Stadtbücherei', 'https://www.muenster.de/stadt/presseservice/pressemeldungen/web/frontend/output/standard/design/standard/page/2/show/1039525'), (datetime.datetime(2020, 3, 11, 0, 0), 'Coronavirus: Münster schließt vorsorglich zwei Schulen und zwei Kitas', 'https://www.muenster.de/stadt/presseservice/pressemeldungen/web/frontend/output/standard/design/standard/page/2/show/1039492'), (datetime.datetime(2020, 3, 11, 0, 0), 'Coronavirus: Städtische Info-Kanäle gefragt', 'https://www.muenster.de/stadt/presseservice/pressemeldungen/web/frontend/output/standard/design/standard/page/2/show/1039460'), (datetime.datetime(2020, 3, 11, 0, 0), 'Wiedereröffnung der Geh- und Radwegbrücke Herrenstraße/Angelseitenweg', 'https://www.muenster.de/stadt/presseservice/pressemeldungen/web/frontend/output/standard/design/standard/page/2/show/1039429'), (datetime.datetime(2020, 3, 11, 0, 0), 'Neue Impulse für Münsters Rock- und Popszene', 'https://www.muenster.de/stadt/presseservice/pressemeldungen/web/frontend/output/standard/design/standard/page/2/show/1039364'), (datetime.datetime(2020, 3, 11, 0, 0), 'Seniorentag im Rathaus entfällt', 'https://www.muenster.de/stadt/presseservice/pressemeldungen/web/frontend/output/standard/design/standard/page/2/show/1039385'), (datetime.datetime(2020, 3, 11, 0, 0), 'Coole Fußballtage für Jugendteams in Kristiansand', 'https://www.muenster.de/stadt/presseservice/pressemeldungen/web/frontend/output/standard/design/standard/page/2/show/1039382'), (datetime.datetime(2020, 3, 10, 0, 0), 'Münster muss nach NRW-Weisung den Send absagen', 'https://www.muenster.de/stadt/presseservice/pressemeldungen/web/frontend/output/standard/design/standard/page/2/show/1039355'), (datetime.datetime(2020, 3, 10, 0, 0), 'Veranstaltungsreihe auf dem Waldfriedhof Lauheide', 'https://www.muenster.de/stadt/presseservice/pressemeldungen/web/frontend/output/standard/design/standard/page/2/show/1039307'), (datetime.datetime(2020, 3, 10, 0, 0), 'Mitradler gesucht', 'https://www.muenster.de/stadt/presseservice/pressemeldungen/web/frontend/output/standard/design/standard/page/2/show/1039256')]\n"
     ]
    }
   ],
   "source": [
    "urls = [\"https://www.muenster.de/stadt/presseservice/pressemeldungen/web/frontend/output/standard/design/standard/page/1\",\n",
    "      \"https://www.muenster.de/stadt/presseservice/pressemeldungen/web/frontend/output/standard/design/standard/page/2\"]\n",
    "\n",
    "pressNews = []\n",
    "for url in urls:\n",
    "    response = requests.get(url)\n",
    "    soup = BeautifulSoup(response.text, \"html.parser\")\n",
    "    for i in soup.findAll(\"div\",{\"class\":\"item\"}):\n",
    "        templist = list(i.children)\n",
    "        date = datetime.strptime(templist[1].text.strip(),'%d.%m.%Y')\n",
    "        title = templist[3].text.strip()\n",
    "        for link in i.findAll('a'):\n",
    "            hlink = link.get('href')\n",
    "            break\n",
    "        pressNews.append((date,title,hlink))\n",
    "\n",
    "#print(pressNews)\n",
    "print(pressNews)"
   ]
  },
  {
   "cell_type": "code",
   "execution_count": 17,
   "metadata": {},
   "outputs": [],
   "source": [
    "#print(dbInterface.cityDict)\n",
    "\n",
    "for news in pressNews:\n",
    "    dbInterface.InsertNews(\"Münster\",\"Stadt Muenster\",\"Stadtregierung\",str(news[0]),str(news[1]),str(news[2]),fromFedGovt = False)"
   ]
  },
  {
   "cell_type": "code",
   "execution_count": 26,
   "metadata": {},
   "outputs": [],
   "source": [
    "dbInterface.cursor.execute(\"DELETE from news WHERE url='URL_TEST_123'\")\n",
    "for x in dbInterface.cursor:\n",
    "    print(x)"
   ]
  },
  {
   "cell_type": "code",
   "execution_count": 27,
   "metadata": {},
   "outputs": [
    {
     "name": "stdout",
     "output_type": "stream",
     "text": [
      "(1, 657, None, datetime.datetime(2020, 3, 20, 0, 0), '\\nWeiter leichter Anstieg bei Corona-Erkrankungen\\n', 'https://www.essen.de/meldungen/pressemeldung_1365115.de.html', 1)\n",
      "(2, 657, None, datetime.datetime(2020, 3, 20, 0, 0), '\\nVollsperrung auf der Frintroper Straße\\n', 'https://www.essen.de/meldungen/pressemeldung_1365111.de.html', 1)\n",
      "(3, 657, None, datetime.datetime(2020, 3, 20, 0, 0), '\\nLeitungserneuerung der STEAG auf der Hindenburgstraße \\n', 'https://www.essen.de/meldungen/pressemeldung_1365107.de.html', 1)\n",
      "(4, 657, None, datetime.datetime(2020, 3, 20, 0, 0), '\\nCoronavirus: Das Jugendamt gibt Tipps, wie Eltern Kinder zu Hause beschäftigen können\\n', 'https://www.essen.de/meldungen/pressemeldung_1365105.de.html', 1)\n",
      "(5, 657, None, datetime.datetime(2020, 3, 20, 0, 0), '\\nHalbzeit der Bewerbungsphase: Grüne Hauptstadt Agentur unterstützt Bürgerprojekte flexibel und unkompliziert \\n', 'https://www.essen.de/meldungen/pressemeldung_1365096.de.html', 1)\n",
      "(6, 657, None, datetime.datetime(2020, 3, 20, 0, 0), '\\nCoronavirus: Genossenschaft Deutscher Bühnen-Angehöriger leistet Sofortnothilfe\\n', 'https://www.essen.de/meldungen/pressemeldung_1365082.de.html', 1)\n",
      "(7, 657, None, datetime.datetime(2020, 3, 20, 0, 0), '\\nCoronavirus: Oberbürgermeister appelliert an die Bevölkerung - Kontrollen durch Ordnungsamt und Polizei werden ausgeweitet\\n', 'https://www.essen.de/meldungen/pressemeldung_1365015.de.html', 1)\n",
      "(8, 657, None, datetime.datetime(2020, 3, 20, 0, 0), '\\nAmtsblatt der Stadt Essen\\n', 'https://www.essen.de/meldungen/pressemeldung_1364559.de.html', 1)\n",
      "(9, 657, None, datetime.datetime(2020, 3, 19, 0, 0), '\\nCoronavirus: Stadt Essen unterstützt örtliche Betriebe – Gewerbesteuer und Vergnügungssteuer werden herabgesetzt\\n', 'https://www.essen.de/meldungen/pressemeldung_1365008.de.html', 1)\n",
      "(10, 657, None, datetime.datetime(2020, 3, 19, 0, 0), '\\nTheater und Philharmonie Essen gibt Hinweise zur Kartenrückgabe\\n', 'https://www.essen.de/meldungen/pressemeldung_1364996.de.html', 1)\n",
      "(11, 657, None, datetime.datetime(2020, 3, 19, 0, 0), '\\nStadt Essen informiert umfassend rund um das Coronavirus\\n', 'https://www.essen.de/meldungen/pressemeldung_1364993.de.html', 1)\n",
      "(12, 657, None, datetime.datetime(2020, 3, 19, 0, 0), '\\nCoronavirus: Zentren 60plus für Veranstaltungen geschlossen – zentrale Rufnummer für Seniorinnen und Senioren\\n', 'https://www.essen.de/meldungen/pressemeldung_1364990.de.html', 1)\n",
      "(13, 657, None, datetime.datetime(2020, 3, 19, 0, 0), '\\nCorona-Erkrankungen in Essen steigen weiter moderat an\\n', 'https://www.essen.de/meldungen/pressemeldung_1364986.de.html', 1)\n",
      "(14, 657, None, datetime.datetime(2020, 3, 19, 0, 0), '\\nCoronavirus: Stadt beschließt Fortführung der Entgelte für die Kindertagespflege\\n', 'https://www.essen.de/meldungen/pressemeldung_1364951.de.html', 1)\n",
      "(15, 657, None, datetime.datetime(2020, 3, 18, 0, 0), '\\nA40: Engpässe zwischen Essen-Kray und Essen-Frillendorf und bei Bochum-Werne wegen Unterhaltungsarbeiten\\n', 'https://www.essen.de/meldungen/pressemeldung_1364947.de.html', 1)\n",
      "(16, 657, None, datetime.datetime(2020, 3, 18, 0, 0), '\\nVollsperrung der Bottroper Straße zwischen Berthold-Beitz-Boulevard und Friedrich-Lange Straße/Hövelstraße\\n', 'https://www.essen.de/meldungen/pressemeldung_1364945.de.html', 1)\n",
      "(17, 657, None, datetime.datetime(2020, 3, 18, 0, 0), '\\nLand Nordrhein-Westfalen fördert Essener Quartiere mit 20 Millionen Euro\\n', 'https://www.essen.de/meldungen/pressemeldung_1364939.de.html', 1)\n",
      "(18, 657, None, datetime.datetime(2020, 3, 18, 0, 0), '\\nStadtbibliothek Essen unterstützt Schüler, Lehrkräfte und Schulen während der Schulschließungen mit Digital-Angebot \\n', 'https://www.essen.de/meldungen/pressemeldung_1364791.de.html', 1)\n",
      "(19, 657, None, datetime.datetime(2020, 3, 18, 0, 0), '\\nCoronavirus: Öffentliches Leben in Essen wird weiter eingeschränkt\\n', 'https://www.essen.de/meldungen/pressemeldung_1364757.de.html', 1)\n",
      "(20, 657, None, datetime.datetime(2020, 3, 17, 0, 0), '\\nCoronavirus: Einschränkungen des öffentlichen Lebens in Essen werden ausgeweitet\\n', 'https://www.essen.de/meldungen/pressemeldung_1364734.de.html', 1)\n",
      "(21, 657, None, datetime.datetime(2020, 3, 17, 0, 0), '\\nInfo-Telefon für Fragen rund um die Notbetreuung in Kitas\\n', 'https://www.essen.de/meldungen/pressemeldung_1364725.de.html', 1)\n",
      "(22, 657, None, datetime.datetime(2020, 3, 17, 0, 0), '\\nAbsage der öffentlichen Veranstaltungen bis Ende April\\n', 'https://www.essen.de/meldungen/pressemeldung_1364715.de.html', 1)\n",
      "(23, 657, None, datetime.datetime(2020, 3, 17, 0, 0), '\\nA44: Mittwoch Engpass in Fahrtrichtung Velbert und Sperrung der Ausfahrt Essen-Kupferdreh\\n', 'https://www.essen.de/meldungen/pressemeldung_1364685.de.html', 1)\n",
      "(24, 657, None, datetime.datetime(2020, 3, 17, 0, 0), '\\nCoronavirus - Alle Varieté-Vorstellungen im GOP ab sofort eingestellt\\n', 'https://www.essen.de/meldungen/pressemeldung_1364682.de.html', 1)\n",
      "(25, 657, None, datetime.datetime(2020, 3, 17, 0, 0), '\\nDas Grend stoppt ab sofort alle Veranstaltungsaktivitäten\\n', 'https://www.essen.de/meldungen/pressemeldung_1364679.de.html', 1)\n",
      "(26, 657, None, datetime.datetime(2020, 3, 16, 0, 0), '\\nSitzungen der politischen Gremien der Stadt Essen werden abgesagt\\n', 'https://www.essen.de/meldungen/pressemeldung_1364641.de.html', 1)\n",
      "(27, 657, None, datetime.datetime(2020, 3, 16, 0, 0), '\\nCoronavirus: Weitere Einschränkungen des öffentlichen Leben in Essen\\n', 'https://www.essen.de/meldungen/pressemeldung_1364639.de.html', 1)\n",
      "(28, 657, None, datetime.datetime(2020, 3, 16, 0, 0), '\\nCoronavirus: Hilfestellung für Künstlerinnen und Künstler sowie Selbständige aus der Kultur- und Kreativwirtschaft\\n', 'https://www.essen.de/meldungen/pressemeldung_1364612.de.html', 1)\n",
      "(29, 657, None, datetime.datetime(2020, 3, 16, 0, 0), '\\nCoronavirus: EWG, EUV, IHK und Kreishandwerkerschaft starten Info-Hotlines für Unternehmen  \\n', 'https://www.essen.de/meldungen/pressemeldung_1364610.de.html', 1)\n",
      "(30, 657, None, datetime.datetime(2020, 3, 16, 0, 0), '\\nAngebote für Seniorinnen und Senioren in der Stadt  Essen fallen aus\\n', 'https://www.essen.de/meldungen/pressemeldung_1364602.de.html', 1)\n",
      "(31, 657, None, datetime.datetime(2020, 3, 16, 0, 0), '\\nStudio-Bühne stellt den Spielbetrieb ab sofort bis zum Ende der Osterferien am 25. April ein\\n', 'https://www.essen.de/meldungen/pressemeldung_1364593.de.html', 1)\n",
      "(32, 657, None, datetime.datetime(2020, 3, 16, 0, 0), '\\nOffizielle Einweihung der Brehmbrücke vom 27. März wird verschoben\\n', 'https://www.essen.de/meldungen/pressemeldung_1364592.de.html', 1)\n",
      "(33, 657, None, datetime.datetime(2020, 3, 16, 0, 0), '\\nSportstätten in Essen bereits heute geschlossen\\n', 'https://www.essen.de/meldungen/pressemeldung_1364583.de.html', 1)\n",
      "(34, 657, None, datetime.datetime(2020, 3, 16, 0, 0), '\\nNeue Allee für den Terrassenfriedhof in Schönebeck\\n', 'https://www.essen.de/meldungen/pressemeldung_1364575.de.html', 1)\n",
      "(35, 657, None, datetime.datetime(2020, 3, 16, 0, 0), '\\nEssener Filmkunsttheater und  Lichtburg  bis auf Weiteres geschlossen\\n', 'https://www.essen.de/meldungen/pressemeldung_1364568.de.html', 1)\n",
      "(36, 657, None, datetime.datetime(2020, 3, 16, 0, 0), '\\nCoronavirus: Museum Folkwang schließt zunächst bis zum 19. April\\n', 'https://www.essen.de/meldungen/pressemeldung_1364565.de.html', 1)\n",
      "(37, 671, None, datetime.datetime(2020, 3, 20, 0, 0), 'mehr zur Meldung: Covid-19: 16 bestätigte Fälle – Stadt kontrolliert am Wochenende Geschäftsschließungen', 'www.herne.de/Meldungen/News-Detailansicht_120576.html', 2)\n",
      "(38, 671, None, datetime.datetime(2020, 3, 19, 0, 0), 'mehr zur Meldung: Entwicklung des Grundstücksmarktes in der Stadt Herne', 'www.herne.de/Meldungen/News-Detailansicht_120449.html', 2)\n",
      "(39, 671, None, datetime.datetime(2020, 3, 19, 0, 0), 'mehr zur Meldung: Keine weiteren Covid-19-Fälle - Verfügung regelt Details zu Geschäftsöffnungen', 'www.herne.de/Meldungen/News-Detailansicht_120512.html', 2)\n",
      "(40, 671, None, datetime.datetime(2020, 3, 18, 0, 0), 'mehr zur Meldung: Covid-19: Neue Fälle – Einzelhandel wird per Erlass des Landes eingeschränkt', 'www.herne.de/Meldungen/News-Detailansicht_120320.html', 2)\n",
      "(41, 671, None, datetime.datetime(2020, 3, 17, 0, 0), 'mehr zur Meldung: Covid-19: Keine neuen Fälle – Stadtverwaltung ergreift weitere Maßnahmen', 'www.herne.de/Meldungen/News-Detailansicht_120128.html', 2)\n",
      "(42, 671, None, datetime.datetime(2020, 3, 16, 0, 0), 'mehr zur Meldung: Covid-19: Stadtverwaltung organisiert Serviceleistungen für Bürgerinnen und Bürger um – Keine weiteren Fälle', 'www.herne.de/Meldungen/News-Detailansicht_120065.html', 2)\n",
      "(43, 671, None, datetime.datetime(2020, 3, 4, 0, 0), 'mehr zur Meldung: Land, Bezirksregierung und Stadt untersuchen silikonverarbeitenden Betrieb', 'www.herne.de/Meldungen/News-Detailansicht_118656.html', 2)\n",
      "(44, 671, None, datetime.datetime(2020, 2, 21, 0, 0), 'mehr zur Meldung: Haushalt für 2020 genehmigt ', 'www.herne.de/Meldungen/News-Detailansicht_117888.html', 2)\n",
      "(45, 671, None, datetime.datetime(2020, 2, 19, 0, 0), '\\nNebeneinkünfte (PDF, 77 KB)', 'www.herne.de/PDF/Politik/Der-Oberbürgermeister/Einkünfte-Nebentätigkeiten-final.pdf', 2)\n",
      "(46, 671, None, datetime.datetime(2020, 2, 7, 0, 0), 'mehr zur Meldung: Drei Sportvereine erhalten Förderung ', 'www.herne.de/Meldungen/News-Detailansicht_116288.html', 2)\n",
      "(47, 671, None, datetime.datetime(2020, 1, 23, 0, 0), 'mehr zur Meldung: Sportprojekt in Kita wird mit 17.000 Euro unterstützt', 'www.herne.de/Meldungen/News-Detailansicht_114944.html', 2)\n",
      "(48, 671, None, datetime.datetime(2020, 1, 10, 0, 0), 'mehr zur Meldung: Herne erschließt Zechenbrache für Mensch und Natur', 'www.herne.de/Meldungen/News-Detailansicht_114048.html', 2)\n",
      "(942, 2058, None, datetime.datetime(2020, 3, 20, 0, 0), 'Bleiben Sie Zuhause! Halten Sie sich an die Regeln!', 'https://www.muenster.de/stadt/presseservice/pressemeldungen/web/frontend/output/standard/design/standard/page/1/show/1040526', 4)\n",
      "(944, 2058, None, datetime.datetime(2020, 3, 20, 0, 0), 'Stadt Münster ist auf mögliche Ausgangssperre vorbereitet', 'https://www.muenster.de/stadt/presseservice/pressemeldungen/web/frontend/output/standard/design/standard/page/1/show/1040512', 4)\n",
      "(945, 2058, None, datetime.datetime(2020, 3, 20, 0, 0), 'Spielplätze gesperrt: Schilder aufgestellt', 'https://www.muenster.de/stadt/presseservice/pressemeldungen/web/frontend/output/standard/design/standard/page/1/show/1040497', 4)\n",
      "(946, 2058, None, datetime.datetime(2020, 3, 20, 0, 0), 'Radwegenetz: Wirtschaftswege werden neu asphaltiert', 'https://www.muenster.de/stadt/presseservice/pressemeldungen/web/frontend/output/standard/design/standard/page/1/show/1040386', 4)\n",
      "(948, 2058, None, datetime.datetime(2020, 3, 19, 0, 0), 'Verwaltung verstärkt Anti-Corona-Kräfte', 'https://www.muenster.de/stadt/presseservice/pressemeldungen/web/frontend/output/standard/design/standard/page/1/show/1040394', 4)\n",
      "(949, 2058, None, datetime.datetime(2020, 3, 19, 0, 0), 'Stadtbücherei verlängert Leihfristen bis 22. April', 'https://www.muenster.de/stadt/presseservice/pressemeldungen/web/frontend/output/standard/design/standard/page/1/show/1040363', 4)\n",
      "(951, 2058, None, datetime.datetime(2020, 3, 19, 0, 0), 'Tipps zum Solarstrom nur am Telefon', 'https://www.muenster.de/stadt/presseservice/pressemeldungen/web/frontend/output/standard/design/standard/page/1/show/1040318', 4)\n",
      "(952, 2058, None, datetime.datetime(2020, 3, 19, 0, 0), 'Top-Mediziner fordern mehr Disziplin bei Corona-Tests', 'https://www.muenster.de/stadt/presseservice/pressemeldungen/web/frontend/output/standard/design/standard/page/1/show/1040330', 4)\n",
      "(954, 2058, None, datetime.datetime(2020, 3, 18, 0, 0), 'E-Mail-Hotline zusätzlich eingerichtet', 'https://www.muenster.de/stadt/presseservice/pressemeldungen/web/frontend/output/standard/design/standard/page/1/show/1040288', 4)\n",
      "(955, 2058, None, datetime.datetime(2020, 3, 18, 0, 0), 'Weitreichende Einschränkungen des öffentlichen Lebens notwendig', 'https://www.muenster.de/stadt/presseservice/pressemeldungen/web/frontend/output/standard/design/standard/page/1/show/1040281', 4)\n",
      "(956, 2058, None, datetime.datetime(2020, 3, 18, 0, 0), 'Recyclinghöfe ab 19. März geschlossen', 'https://www.muenster.de/stadt/presseservice/pressemeldungen/web/frontend/output/standard/design/standard/page/1/show/1040264', 4)\n",
      "(958, 2058, None, datetime.datetime(2020, 3, 18, 0, 0), 'Münster Mitglied im Zukunftsnetz Mobilität', 'https://www.muenster.de/stadt/presseservice/pressemeldungen/web/frontend/output/standard/design/standard/page/1/show/1040205', 4)\n",
      "(959, 2058, None, datetime.datetime(2020, 3, 18, 0, 0), 'Stadtverwaltung bittet um Verzicht auf persönliche Gespräche', 'https://www.muenster.de/stadt/presseservice/pressemeldungen/web/frontend/output/standard/design/standard/page/1/show/1040202', 4)\n",
      "(961, 2058, None, datetime.datetime(2020, 3, 17, 0, 0), 'Coronavirus: Stadtverwaltung passt Maßnahmen an', 'https://www.muenster.de/stadt/presseservice/pressemeldungen/web/frontend/output/standard/design/standard/page/1/show/1040179', 4)\n",
      "(962, 2058, None, datetime.datetime(2020, 3, 17, 0, 0), 'Wolbecker Straße am Nachmittag wieder frei', 'https://www.muenster.de/stadt/presseservice/pressemeldungen/web/frontend/output/standard/design/standard/page/1/show/1040080', 4)\n",
      "(963, 2058, None, datetime.datetime(2020, 3, 17, 0, 0), 'Gewinn für alle Seiten', 'https://www.muenster.de/stadt/presseservice/pressemeldungen/web/frontend/output/standard/design/standard/page/1/show/1040062', 4)\n",
      "(965, 2058, None, datetime.datetime(2020, 3, 17, 0, 0), 'Recyclinghöfe teilweise geschlossen', 'https://www.muenster.de/stadt/presseservice/pressemeldungen/web/frontend/output/standard/design/standard/page/1/show/1040056', 4)\n",
      "(966, 2058, None, datetime.datetime(2020, 3, 16, 0, 0), 'Coronavirus: Stadt handelt konsequent', 'https://www.muenster.de/stadt/presseservice/pressemeldungen/web/frontend/output/standard/design/standard/page/1/show/1040041', 4)\n",
      "(968, 2058, None, datetime.datetime(2020, 3, 16, 0, 0), 'Wolbecker Straße weiterhin gesperrt', 'https://www.muenster.de/stadt/presseservice/pressemeldungen/web/frontend/output/standard/design/standard/page/1/show/1039975', 4)\n",
      "(969, 2058, None, datetime.datetime(2020, 3, 16, 0, 0), 'Solarstrom vom eigenen Dach lohnt sich', 'https://www.muenster.de/stadt/presseservice/pressemeldungen/web/frontend/output/standard/design/standard/page/1/show/1039942', 4)\n",
      "(971, 2058, None, datetime.datetime(2020, 3, 14, 0, 0), 'Coronavirus: Stadt reagiert auf Zunahme der Fälle', 'https://www.muenster.de/stadt/presseservice/pressemeldungen/web/frontend/output/standard/design/standard/page/2/show/1039856', 4)\n",
      "(972, 2058, None, datetime.datetime(2020, 3, 13, 0, 0), 'Stadt sagt alle Veranstaltungen ohne Ausnahme ab', 'https://www.muenster.de/stadt/presseservice/pressemeldungen/web/frontend/output/standard/design/standard/page/2/show/1039791', 4)\n",
      "(973, 2058, None, datetime.datetime(2020, 3, 13, 0, 0), 'Großer Maßstab und gut lesbar', 'https://www.muenster.de/stadt/presseservice/pressemeldungen/web/frontend/output/standard/design/standard/page/2/show/1039566', 4)\n",
      "(975, 2058, None, datetime.datetime(2020, 3, 13, 0, 0), 'Steinfurter Straße: Attraktive Mobilstation geplant', 'https://www.muenster.de/stadt/presseservice/pressemeldungen/web/frontend/output/standard/design/standard/page/2/show/1039406', 4)\n",
      "(976, 2058, None, datetime.datetime(2020, 3, 13, 0, 0), 'Von der Not des Lebens in einer zerstörten Stadt', 'https://www.muenster.de/stadt/presseservice/pressemeldungen/web/frontend/output/standard/design/standard/page/2/show/1039150', 4)\n",
      "(978, 2058, None, datetime.datetime(2020, 3, 13, 0, 0), 'Fahrbahninstandsetzung am Neutor', 'https://www.muenster.de/stadt/presseservice/pressemeldungen/web/frontend/output/standard/design/standard/page/2/show/1039670', 4)\n",
      "(979, 2058, None, datetime.datetime(2020, 3, 13, 0, 0), 'Flaggen auf halbmast', 'https://www.muenster.de/stadt/presseservice/pressemeldungen/web/frontend/output/standard/design/standard/page/2/show/1039669', 4)\n",
      "(980, 2058, None, datetime.datetime(2020, 3, 12, 0, 0), 'Coronavirus: 16 bestätigte Fälle in Münster', 'https://www.muenster.de/stadt/presseservice/pressemeldungen/web/frontend/output/standard/design/standard/page/2/show/1039616', 4)\n",
      "(982, 2058, None, datetime.datetime(2020, 3, 12, 0, 0), 'Sammelaktion \"Sauberes Münster\" abgesagt', 'https://www.muenster.de/stadt/presseservice/pressemeldungen/web/frontend/output/standard/design/standard/page/2/show/1039580', 4)\n",
      "(983, 2058, None, datetime.datetime(2020, 3, 12, 0, 0), 'Reisener leitet Kommunikation der Stadt Münster', 'https://www.muenster.de/stadt/presseservice/pressemeldungen/web/frontend/output/standard/design/standard/page/2/show/1039545', 4)\n",
      "(985, 2058, None, datetime.datetime(2020, 3, 12, 0, 0), 'Lesetipps in der Stadtbücherei', 'https://www.muenster.de/stadt/presseservice/pressemeldungen/web/frontend/output/standard/design/standard/page/2/show/1039525', 4)\n",
      "(986, 2058, None, datetime.datetime(2020, 3, 11, 0, 0), 'Coronavirus: Münster schließt vorsorglich zwei Schulen und zwei Kitas', 'https://www.muenster.de/stadt/presseservice/pressemeldungen/web/frontend/output/standard/design/standard/page/2/show/1039492', 4)\n",
      "(988, 2058, None, datetime.datetime(2020, 3, 11, 0, 0), 'Coronavirus: Städtische Info-Kanäle gefragt', 'https://www.muenster.de/stadt/presseservice/pressemeldungen/web/frontend/output/standard/design/standard/page/2/show/1039460', 4)\n",
      "(989, 2058, None, datetime.datetime(2020, 3, 11, 0, 0), 'Wiedereröffnung der Geh- und Radwegbrücke Herrenstraße/Angelseitenweg', 'https://www.muenster.de/stadt/presseservice/pressemeldungen/web/frontend/output/standard/design/standard/page/2/show/1039429', 4)\n",
      "(991, 2058, None, datetime.datetime(2020, 3, 11, 0, 0), 'Neue Impulse für Münsters Rock- und Popszene', 'https://www.muenster.de/stadt/presseservice/pressemeldungen/web/frontend/output/standard/design/standard/page/2/show/1039364', 4)\n",
      "(992, 2058, None, datetime.datetime(2020, 3, 11, 0, 0), 'Seniorentag im Rathaus entfällt', 'https://www.muenster.de/stadt/presseservice/pressemeldungen/web/frontend/output/standard/design/standard/page/2/show/1039385', 4)\n",
      "(994, 2058, None, datetime.datetime(2020, 3, 11, 0, 0), 'Coole Fußballtage für Jugendteams in Kristiansand', 'https://www.muenster.de/stadt/presseservice/pressemeldungen/web/frontend/output/standard/design/standard/page/2/show/1039382', 4)\n",
      "(995, 2058, None, datetime.datetime(2020, 3, 10, 0, 0), 'Münster muss nach NRW-Weisung den Send absagen', 'https://www.muenster.de/stadt/presseservice/pressemeldungen/web/frontend/output/standard/design/standard/page/2/show/1039355', 4)\n",
      "(996, 2058, None, datetime.datetime(2020, 3, 10, 0, 0), 'Veranstaltungsreihe auf dem Waldfriedhof Lauheide', 'https://www.muenster.de/stadt/presseservice/pressemeldungen/web/frontend/output/standard/design/standard/page/2/show/1039307', 4)\n",
      "(998, 2058, None, datetime.datetime(2020, 3, 10, 0, 0), 'Mitradler gesucht', 'https://www.muenster.de/stadt/presseservice/pressemeldungen/web/frontend/output/standard/design/standard/page/2/show/1039256', 4)\n"
     ]
    }
   ],
   "source": [
    "dbInterface.cursor.execute(\"select * from news\")\n",
    "for x in dbInterface.cursor:\n",
    "    print(x)"
   ]
  },
  {
   "cell_type": "code",
   "execution_count": null,
   "metadata": {},
   "outputs": [],
   "source": []
  }
 ],
 "metadata": {
  "kernelspec": {
   "display_name": "Python 3",
   "language": "python",
   "name": "python3"
  },
  "language_info": {
   "codemirror_mode": {
    "name": "ipython",
    "version": 3
   },
   "file_extension": ".py",
   "mimetype": "text/x-python",
   "name": "python",
   "nbconvert_exporter": "python",
   "pygments_lexer": "ipython3",
   "version": "3.7.4"
  }
 },
 "nbformat": 4,
 "nbformat_minor": 2
}
