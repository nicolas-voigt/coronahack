{
 "cells": [
  {
   "cell_type": "code",
   "execution_count": 44,
   "metadata": {},
   "outputs": [],
   "source": [
    "import requests\n",
    "import urllib.request\n",
    "import time\n",
    "import dbInterface\n",
    "from bs4 import BeautifulSoup\n",
    "import datetime\n",
    "from datetime import datetime\n",
    "from bs4.dammit import EncodingDetector\n",
    "import locale"
   ]
  },
  {
   "cell_type": "code",
   "execution_count": 45,
   "metadata": {},
   "outputs": [],
   "source": [
    "monthDict={\n",
    "    \"Januar\":1,\n",
    "    \"Februar\":2,\n",
    "    \"März\":3,\n",
    "    \"April\":4,\n",
    "    \"Mai\":5,\n",
    "    \"Juni\":6,\n",
    "    \"Juli\":7,\n",
    "    \"August\":8,\n",
    "    \"September\":9,\n",
    "    \"Oktober\":10,\n",
    "    \"November\":11,\n",
    "    \"Dezember\":12\n",
    "}"
   ]
  },
  {
   "cell_type": "code",
   "execution_count": 46,
   "metadata": {},
   "outputs": [],
   "source": [
    "url = 'https://www.senatspressestelle.bremen.de/detail.php?gsid=bremen02.c.732.de&id=1464&skip=0&max=100'\n",
    "baseUrl = \"https://www.senatspressestelle.bremen.de/\"\n",
    "resp = requests.get(url)\n",
    "\n",
    "http_encoding = resp.encoding if 'charset' in resp.headers.get('content-type', '').lower() else None\n",
    "html_encoding = EncodingDetector.find_declared_encoding(resp.content, is_html=True)\n",
    "encoding = html_encoding or http_encoding\n",
    "locale.setlocale(locale.LC_ALL, 'de_DE')\n",
    "\n",
    "soup = BeautifulSoup(resp.content, 'lxml', from_encoding=encoding)"
   ]
  },
  {
   "cell_type": "code",
   "execution_count": 47,
   "metadata": {},
   "outputs": [
    {
     "name": "stdout",
     "output_type": "stream",
     "text": [
      "100\n",
      "100\n",
      "100\n"
     ]
    }
   ],
   "source": [
    "dates = []\n",
    "titles = []\n",
    "urls = []\n",
    "\n",
    "for i in soup.findAll(\"tr\"):\n",
    "    for j in i.findAll(\"td\",{\"headers\":\"t2\"}):\n",
    "        titles.append(j.text.strip())\n",
    "        for link in j.find_all('a', href=True):\n",
    "            urls.append(baseUrl + link['href'])\n",
    "        break\n",
    "    for j in i.findAll(\"td\",{\"headers\":\"t1\"}):\n",
    "        strList = j.text.strip().split(\".\")\n",
    "        date = datetime(int(strList[2]),int(strList[1]),int(strList[0]))\n",
    "        dates.append(date)\n",
    "        break\n",
    "\n",
    "print(len(dates))\n",
    "print(len(titles))\n",
    "print(len(urls))"
   ]
  },
  {
   "cell_type": "code",
   "execution_count": 48,
   "metadata": {},
   "outputs": [],
   "source": [
    "for i in range(0,len(dates)):\n",
    "    dbInterface.InsertNews(\"Bremen\",\"Stadt Bremen\",\"Stadtregierung\",str(dates[i]),str(titles[i]),str(urls[i]),fromFedGovt = False)"
   ]
  },
  {
   "cell_type": "code",
   "execution_count": 52,
   "metadata": {},
   "outputs": [
    {
     "name": "stdout",
     "output_type": "stream",
     "text": [
      "(1911,)\n"
     ]
    }
   ],
   "source": [
    "dbInterface.cursor.execute(\"select count(*) from news\")\n",
    "for x in dbInterface.cursor:\n",
    "    print(x)"
   ]
  },
  {
   "cell_type": "code",
   "execution_count": null,
   "metadata": {},
   "outputs": [],
   "source": []
  }
 ],
 "metadata": {
  "kernelspec": {
   "display_name": "Python 3",
   "language": "python",
   "name": "python3"
  },
  "language_info": {
   "codemirror_mode": {
    "name": "ipython",
    "version": 3
   },
   "file_extension": ".py",
   "mimetype": "text/x-python",
   "name": "python",
   "nbconvert_exporter": "python",
   "pygments_lexer": "ipython3",
   "version": "3.7.4"
  }
 },
 "nbformat": 4,
 "nbformat_minor": 2
}
